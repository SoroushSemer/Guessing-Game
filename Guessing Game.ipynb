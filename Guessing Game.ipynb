{
 "cells": [
  {
   "cell_type": "code",
   "execution_count": null,
   "metadata": {},
   "outputs": [],
   "source": [
    "import random\n",
    "def game(guess, numb,lvl,attempts):\n",
    "    lvl = input(\"CHOOSE A LEVEL FROM 1 TO 3:\")\n",
    "    if lvl==\"1\":\n",
    "        numb=str(round(random.randint(1,10), 1))\n",
    "        \n",
    "        while guess!=numb and attempts<3:\n",
    "            guess=input(\"Guess a number from 1-10\")\n",
    "            attempts=attempts+1\n",
    "            if numb==guess:\n",
    "                print (\"YAY! YOU WON! in \",attempts,\"attempts\")\n",
    "            else:\n",
    "                print (\"WRONG! TRY AGAIN!\")\n",
    "                print (\"attempts: \", attempts)\n",
    "        if attempts==3:\n",
    "            print(\"YOU LOST! :(\")\n",
    "       \n",
    "    elif lvl==\"2\":\n",
    "        numb=str(round(random.randint(1,20), 1))\n",
    "        \n",
    "        while guess!=numb and attempts<3:\n",
    "            guess=input(\"Guess a number from 1-20\")\n",
    "            attempts=attempts+1\n",
    "            if numb==guess:\n",
    "                print (\"YAY! YOU WON! in \",attempts,\"attempts\")\n",
    "            else:\n",
    "                print (\"WRONG! TRY AGAIN!\")\n",
    "                print (\"attempts: \", attempts)\n",
    "        if attempts==3:\n",
    "            print(\"YOU LOST! :(\")\n",
    "   \n",
    "    elif lvl==\"3\":\n",
    "        numb=str(round(random.randint(1,30), 1))\n",
    "        \n",
    "        while guess!=numb and attempts<3:\n",
    "            guess=input(\"Guess a number from 1-30\")\n",
    "            attempts=attempts+1\n",
    "            if numb==guess:\n",
    "                print (\"YAY! YOU WON! in \",attempts,\"attempts\")\n",
    "            else:\n",
    "                print (\"WRONG! TRY AGAIN!\")\n",
    "                print (\"attempts: \", attempts)\n",
    "        if attempts==3:\n",
    "            print(\"YOU LOST! :(\")\n",
    "   \n",
    "    else:\n",
    "        print (\"INVALID LEVEL\")\n",
    "    \n",
    "game(0,0,0,0)\n"
   ]
  }
 ],
 "metadata": {
  "kernelspec": {
   "display_name": "Python 3",
   "language": "python",
   "name": "python3"
  },
  "language_info": {
   "codemirror_mode": {
    "name": "ipython",
    "version": 3
   },
   "file_extension": ".py",
   "mimetype": "text/x-python",
   "name": "python",
   "nbconvert_exporter": "python",
   "pygments_lexer": "ipython3",
   "version": "3.6.3"
  }
 },
 "nbformat": 4,
 "nbformat_minor": 2
}
